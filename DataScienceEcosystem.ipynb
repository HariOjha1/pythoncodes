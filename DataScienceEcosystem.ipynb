{
 "cells": [
  {
   "cell_type": "markdown",
   "id": "327fec0c-5e1f-4e5f-b5e4-838ed0250c1e",
   "metadata": {},
   "source": [
    "<h1> Data Science Tools and Ecosystem</h1>\n",
    "In this notebook, Data Science Tools and Ecosystem are summarized.\n",
    "Some of the popular languages that Data Scientists use are:\n",
    "<ol>\n",
    "  <li> Python \n",
    "  <li> R\n",
    "  <li> SQL \n",
    "</ol> \n",
    "Some of the commonly used libraries used by Data Scientists include:\n",
    "<ol> \n",
    "    <li> NumPy\n",
    "    <li> Keras\n",
    "    <li> Pandas\n",
    "</ol>  \n",
    "<table align=\"left\">\n",
    "    <tr><th> Data Science Tools</th></tr>\n",
    "    <tr><td> Matplotlib</td></tr>\n",
    "    <tr><td> Seaborn</td></tr>\n",
    "    <tr><td> Scikit-learn </td> </tr> \n",
    " </table>   \n",
    " <h3> Below are a few examples of evaluating arithmetic expressions in Python </h3> \n",
    " \n"
   ]
  },
  {
   "cell_type": "code",
   "execution_count": 2,
   "id": "cf7570bb-0ac1-46f8-9ec0-ca758eec2df5",
   "metadata": {
    "tags": []
   },
   "outputs": [
    {
     "data": {
      "text/plain": [
       "17"
      ]
     },
     "execution_count": 2,
     "metadata": {},
     "output_type": "execute_result"
    }
   ],
   "source": [
    "# This a simple arithmetic expression to mutiply then add integers\n",
    "(3*4)+5\n"
   ]
  },
  {
   "cell_type": "code",
   "execution_count": 3,
   "id": "2623bbb7-e553-430b-b2f0-bcab7f794153",
   "metadata": {
    "tags": []
   },
   "outputs": [
    {
     "data": {
      "text/plain": [
       "3.3333333333333335"
      ]
     },
     "execution_count": 3,
     "metadata": {},
     "output_type": "execute_result"
    }
   ],
   "source": [
    "# This will convert 200 minutes to hours by diving by 60\n",
    "(200/60)\n",
    "\n"
   ]
  },
  {
   "cell_type": "markdown",
   "id": "f2bc2ce2-7eea-4131-9458-4837c861de6a",
   "metadata": {},
   "source": [
    "<b>Objectives:</b>\n",
    "<ul>\n",
    "    <li> The popular languages for Data Scientists </li>\n",
    "    <li> The commonly used libraries used by Data Scientists </li> \n",
    "    <li>  The arithmetic expressions in Python </li> \n",
    "</ul>   \n"
   ]
  },
  {
   "cell_type": "markdown",
   "id": "b18b1034-1aec-43a8-bb92-2ddc45c1a016",
   "metadata": {},
   "source": []
  }
 ],
 "metadata": {
  "kernelspec": {
   "display_name": "Python",
   "language": "python",
   "name": "conda-env-python-py"
  },
  "language_info": {
   "codemirror_mode": {
    "name": "ipython",
    "version": 3
   },
   "file_extension": ".py",
   "mimetype": "text/x-python",
   "name": "python",
   "nbconvert_exporter": "python",
   "pygments_lexer": "ipython3",
   "version": "3.7.12"
  }
 },
 "nbformat": 4,
 "nbformat_minor": 5
}
